{
 "cells": [
  {
   "cell_type": "code",
   "execution_count": 4,
   "id": "922d4850-89ff-46fd-9779-211f1c532f89",
   "metadata": {},
   "outputs": [
    {
     "data": {
      "text/plain": [
       "{'balance': Decimal('15000.00')}"
      ]
     },
     "execution_count": 4,
     "metadata": {},
     "output_type": "execute_result"
    }
   ],
   "source": [
    "from django.db.models import Sum, Case, When, F, DecimalField\n",
    "\n",
    "account = BankAccount.objects.first()\n",
    "account.transactions.all().aggregate(\n",
    "                balance=Sum(\n",
    "                    Case(\n",
    "                        When(category__transaction_type=\"INCOME\", then=F(\"value\")),\n",
    "                        When(\n",
    "                            category__transaction_type=\"EXPENSE\", then=F(\"value\") * -1\n",
    "                        ),\n",
    "                        output_field=DecimalField(),\n",
    "                    )\n",
    "                )\n",
    "            )"
   ]
  },
  {
   "cell_type": "code",
   "execution_count": null,
   "id": "eadeacd5-e207-4809-b38a-f0cafd9b269e",
   "metadata": {},
   "outputs": [],
   "source": [
    "import pandas as pd\n",
    "df = pd.DataFrame(list(cc.transactions.all().values('category__transaction_type', 'value')))\n",
    "df"
   ]
  }
 ],
 "metadata": {
  "kernelspec": {
   "display_name": "Django Shell-Plus",
   "language": "python",
   "name": "django_extensions"
  },
  "language_info": {
   "codemirror_mode": {
    "name": "ipython",
    "version": 3
   },
   "file_extension": ".py",
   "mimetype": "text/x-python",
   "name": "python",
   "nbconvert_exporter": "python",
   "pygments_lexer": "ipython3",
   "version": "3.12.4"
  }
 },
 "nbformat": 4,
 "nbformat_minor": 5
}
